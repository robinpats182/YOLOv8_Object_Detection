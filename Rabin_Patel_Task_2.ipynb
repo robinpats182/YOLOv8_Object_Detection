{
  "nbformat": 4,
  "nbformat_minor": 0,
  "metadata": {
    "colab": {
      "provenance": [],
      "gpuType": "T4",
      "authorship_tag": "ABX9TyM7q6I6yMS6vq5sqbzqwqcv",
      "include_colab_link": true
    },
    "kernelspec": {
      "name": "python3",
      "display_name": "Python 3"
    },
    "language_info": {
      "name": "python"
    },
    "accelerator": "GPU"
  },
  "cells": [
    {
      "cell_type": "markdown",
      "metadata": {
        "id": "view-in-github",
        "colab_type": "text"
      },
      "source": [
        "<a href=\"https://colab.research.google.com/github/robinpats182/YOLOv8_Object_Detection/blob/main/Rabin_Patel_Task_2.ipynb\" target=\"_parent\"><img src=\"https://colab.research.google.com/assets/colab-badge.svg\" alt=\"Open In Colab\"/></a>"
      ]
    },
    {
      "cell_type": "code",
      "execution_count": null,
      "metadata": {
        "id": "ZB3vRBDkaTXh",
        "collapsed": true
      },
      "outputs": [],
      "source": [
        "# installing ultralytics environment\n",
        "pip install ultralytics"
      ]
    },
    {
      "cell_type": "code",
      "source": [
        "#make results directory\n",
        "import os\n",
        "#importing YOLO from ultralytics\n",
        "from ultralytics import YOLO\n",
        "#Loading YOLOv8 model ( m - medium )\n",
        "model = YOLO('yolov8m.pt')"
      ],
      "metadata": {
        "id": "-ERejDQ7a6EJ"
      },
      "execution_count": null,
      "outputs": []
    },
    {
      "cell_type": "code",
      "source": [
        "import shutil #python library to move files\n",
        "from IPython.display import Image, display # python library to display file\n",
        "from google.colab import files\n",
        "uploaded = files.upload()  # upload image\n",
        "\n",
        "#creating directory to save uploaded image\n",
        "save_path = '/content/uploads'\n",
        "os.makedirs(save_path, exist_ok=True)\n",
        "\n",
        "#creating directory to save detected image\n",
        "result_path = \"/content/detection_results\"\n",
        "os.makedirs(result_path, exist_ok=True)\n",
        "\n",
        "for fname in uploaded.keys():\n",
        "    # Run YOLOv8 detection\n",
        "    results = model(fname)\n",
        "    #move uploaded image to uploads folder\n",
        "    shutil.move(fname, os.path.join(save_path, fname))\n",
        "    #move detected image to detection_results folder\n",
        "    detected_img = os.path.join(result_path, f\"detected_{fname}\") #detected image\n",
        "    results[0].save(filename= detected_img)  # Save result\n",
        "    #Displaying result image\n",
        "    display(Image(detected_img))\n",
        "\n",
        "print(\"Detection complete. Results saved in:\", result_path)"
      ],
      "metadata": {
        "id": "JV_VljdzYJjj"
      },
      "execution_count": null,
      "outputs": []
    }
  ]
}